{
 "cells": [
  {
   "cell_type": "code",
   "execution_count": null,
   "id": "deb4a223-85f3-4192-a5c8-b98b11a6d159",
   "metadata": {},
   "outputs": [],
   "source": [
    "                                                  ASSIGNMENT NO. :-2"
   ]
  },
  {
   "cell_type": "code",
   "execution_count": null,
   "id": "a4dca678-e5ee-4b1d-adee-a659648de9f9",
   "metadata": {},
   "outputs": [],
   "source": [
    "1. WRITE A PROGRAM TO ACCEPT PERCENTAGE FROM THE USER AND DISPLAY THE GRADE ACCORDING TO THE FOLLWING CRITERIA ? \n",
    "\n",
    "          MARKS                     GRADE\n",
    "        ______________________________________\n",
    "        >90                         A\n",
    "        >80 AND <= 90               B\n",
    "        >= 60 AND <= 80             C\n",
    "        BELOW 60                    D"
   ]
  },
  {
   "cell_type": "code",
   "execution_count": 22,
   "id": "34ebf848-bfff-4584-8194-b846efe6853d",
   "metadata": {},
   "outputs": [
    {
     "name": "stdin",
     "output_type": "stream",
     "text": [
      "enter your marks  49\n"
     ]
    },
    {
     "name": "stdout",
     "output_type": "stream",
     "text": [
      "D\n"
     ]
    }
   ],
   "source": [
    "marks = int(input(\"enter your marks \"))\n",
    "if marks > 90 and marks <=100 :\n",
    "    print(\"A\")\n",
    "elif marks >80 and marks <=90:\n",
    "    print(\"B\")\n",
    "elif marks >=60 and marks <=80:\n",
    "    print(\"C\")\n",
    "elif marks <60:\n",
    "    print(\"D\")\n",
    "else :\n",
    "    print(\"INVALID INPUT\")\n",
    "   \n"
   ]
  },
  {
   "cell_type": "code",
   "execution_count": null,
   "id": "608cc901-d02a-47c7-9e10-d7f28a0b4a5d",
   "metadata": {},
   "outputs": [],
   "source": [
    "2. WRITE A PROGRAM TO ACCEPT THE COST PRICE OF A BIKE AND DISPLAY THE ROAD TAX TO BE PAID ACCORDING TO THE FOLLOWING CRITERIA:\n",
    "    \n",
    "                   TAX                            COST PRICE(in RS)\n",
    "        _______________________________________________________________________\n",
    "                  15%                             >100000\n",
    "                  10%                             >50000 AND <= 100000\n",
    "                  05%                             <=50000"
   ]
  },
  {
   "cell_type": "code",
   "execution_count": 27,
   "id": "7361dbcf-fbcb-455f-b6a8-8cb352033880",
   "metadata": {},
   "outputs": [
    {
     "name": "stdin",
     "output_type": "stream",
     "text": [
      "ENTER THE PRICE OF BIKE 400000\n"
     ]
    },
    {
     "name": "stdout",
     "output_type": "stream",
     "text": [
      "YOU HAVE TO PAY THE TAX OF 15%\n",
      "YOUR TAX IN RUPEES  60000.0\n"
     ]
    }
   ],
   "source": [
    "cost = int(input(\"ENTER THE PRICE OF BIKE\"))\n",
    "if cost >100000:\n",
    "    print(\"YOU HAVE TO PAY THE TAX OF 15%\")\n",
    "    print(\"YOUR TAX IN RUPEES \" ,cost*.15)\n",
    "elif cost >50000 and cost <=100000:\n",
    "    print(\"YOU HAVE TO PAY THE TAX OF 10%\")\n",
    "    print(\"YOUR TAX IN RUPEES \", cost*.10)\n",
    "else :\n",
    "    print(\"YOU HAVE TO PAY THE TAX OF 5%\")\n",
    "    print(\"YOUR TAX IN RUPEES \", cost*.05)\n"
   ]
  },
  {
   "cell_type": "code",
   "execution_count": 23,
   "id": "f4535b07-bc61-4bd1-99bb-d5a0bc6ac90b",
   "metadata": {},
   "outputs": [
    {
     "name": "stdout",
     "output_type": "stream",
     "text": [
      "15000.0\n"
     ]
    }
   ],
   "source": [
    "3. ACCEPT ANY CITY FROM THE USER AND DISPLAY THE MONUMENT OF THE CITY :\n",
    "     \n",
    "              CITY                      MONUMENT \n",
    "            _________________________________________\n",
    "            DELHI                       RED FORT \n",
    "            AGRA                        TAJ MAHAL\n",
    "            JAIPUR                      JAL MAHAL"
   ]
  },
  {
   "cell_type": "code",
   "execution_count": 1,
   "id": "618b0362-4668-4968-bac8-3d3acf2dbc28",
   "metadata": {},
   "outputs": [
    {
     "name": "stdin",
     "output_type": "stream",
     "text": [
      "ENTER THE NAME OF THE CITY jaipur\n"
     ]
    },
    {
     "name": "stdout",
     "output_type": "stream",
     "text": [
      "THE MONUMENT OF THE CITY IS JAL MAHAL\n"
     ]
    }
   ],
   "source": [
    "name = input(\"ENTER THE NAME OF THE CITY\").capitalize()\n",
    "city1 = \"Delhi\"\n",
    "city2 = \"Agra\"\n",
    "city3 = \"Jaipur\"\n",
    "if city1 == name:\n",
    "    print(\"THE MONUMENT OF THE CITY IS RED FORT\")\n",
    "elif city2 == name:\n",
    "    print(\"THE MONUMENT OF THE CITY IS TAJ MAHAL\")\n",
    "elif city3 == name:\n",
    "    print(\"THE MONUMENT OF THE CITY IS JAL MAHAL\")\n",
    "else :\n",
    "    print(\"INVALID INPUT\")"
   ]
  },
  {
   "cell_type": "code",
   "execution_count": null,
   "id": "2254f1c7-2f04-4122-8919-edd20232eda7",
   "metadata": {},
   "outputs": [],
   "source": [
    "4. CHECK HOW MANY TIMES A GIVEN NUMBER CAN BE DIVIDED BY 3 BEFORE IT IS LESS THEN OR EQUAL TO 10."
   ]
  },
  {
   "cell_type": "code",
   "execution_count": null,
   "id": "e266b151-aa27-4844-b6eb-bb953e095505",
   "metadata": {},
   "outputs": [],
   "source": [
    "num = int(input(\"ENTER THE NUMBER\"))\n",
    "if num%3 == 0 :\n",
    "    print(num , \"IS DIVISIBLE BY 3\")\n",
    "else :\n",
    "    print(num , \"IS NOT DIVISIBLE BY 3\")"
   ]
  },
  {
   "cell_type": "code",
   "execution_count": null,
   "id": "cf7d075c-824b-431f-9cc1-7dc09d7900ae",
   "metadata": {},
   "outputs": [],
   "source": [
    "5. WHY AND WHEN TO USE WHILE LOOP IN PYTHON GIVE A DETAILED DESCRIPTION WITH EXAMPLE :\n",
    "    \n",
    "ANS:\n",
    "    IN PYTHON, A WHILE LOOP IS USED TO EXECUTE A BLOCK OF STATEMENTS REPEATEDLY UNTIL A GIVEN CONDITION IS SATISFIED.\n",
    "    AND WHEN THE CONDITION BECOMES FALSE, THE LINE IMMEDIATELY AFTER THE LOOP IN THE PROGRAM IS EXECUTED.\n",
    "    \n",
    "    STATEMENTS REPRESENT ALL THE STATEMENTS INDENTED BY THE SAME NUMBER OF CHARACTER SPACES AFTER A PROGRAMMING CONSTRUCT\n",
    "    ARE CONSIDERED TO BE PART OF A SINGLE BLOCK OF CODE. PYTHON USES INDENTATION AS ITS METHOD OF GROUPING STATEMENTS. \n",
    "    WHEN A WHILE LOOP IS EXECUTED, EXPR IS FIRST EVALUATED IN A BOOLEAN CONTEXT AND IF IT IS TRUE, THE LOOP BODY IS EXECUTED. \n",
    "    THEN THE EXPR IS CHECKED AGAIN, IF IT IS STILL TRUE THEN THE BODY IS EXECUTED AGAIN AND THIS CONTINUES UNTIL THE EXPRESSION BECOMES FALSE.\n",
    "    \n",
    "    # Python program to illustrate\n",
    "# while loop\n",
    "count = 0\n",
    "while (count < 3):\n",
    "    count = count + 1\n",
    "    print(\"Hello Coders\")"
   ]
  },
  {
   "cell_type": "code",
   "execution_count": null,
   "id": "fda4981b-91c8-47fb-8fd3-8bad9916387a",
   "metadata": {},
   "outputs": [],
   "source": [
    "6. USE NESTED WHILE LOOP TO PRINT 3 DIFFERENT PATTERN.:"
   ]
  },
  {
   "cell_type": "code",
   "execution_count": 21,
   "id": "755aad8d-849f-4db5-91f1-2ae64cf81586",
   "metadata": {},
   "outputs": [
    {
     "name": "stdout",
     "output_type": "stream",
     "text": [
      "1  \n",
      "1 2  \n",
      "1 2 3  \n"
     ]
    }
   ],
   "source": [
    "i = 1 \n",
    "while i<=3 :\n",
    "    j = 1 \n",
    "    while j <= i :\n",
    "        print(j , end = \" \")\n",
    "        j = j + 1 \n",
    "    print(\" \")\n",
    "    i = i + 1"
   ]
  },
  {
   "cell_type": "code",
   "execution_count": null,
   "id": "8641adf4-b605-4f93-b634-f907a54d741a",
   "metadata": {},
   "outputs": [],
   "source": [
    "7. REVERSE A WHILE LOOP TO DISPLAY NUMBER FROM 10 TO 1 :"
   ]
  },
  {
   "cell_type": "code",
   "execution_count": null,
   "id": "4fcd9788-6a3c-4d5e-9afe-16c3cf332ff0",
   "metadata": {},
   "outputs": [],
   "source": [
    "i = 10\n",
    "while i <= 1:\n",
    "    print(i)\n",
    "    i = i - 1"
   ]
  },
  {
   "cell_type": "code",
   "execution_count": null,
   "id": "d4e8cf0a-b30b-4b6d-ada7-6310e5fb5ea1",
   "metadata": {},
   "outputs": [],
   "source": [
    "8. WRITE A WHILE LOOP TO DISPLAY NUMBER FROM 1 TO 10"
   ]
  },
  {
   "cell_type": "code",
   "execution_count": null,
   "id": "1d988939-8390-49a6-8c57-12aae2688147",
   "metadata": {},
   "outputs": [],
   "source": [
    "i = 1 \n",
    "while i <= 10 :\n",
    "    print(i)\n",
    "    i = i + 1"
   ]
  },
  {
   "cell_type": "code",
   "execution_count": null,
   "id": "5f02ba9b-803e-4881-969c-6b5d7cad2aa1",
   "metadata": {},
   "outputs": [],
   "source": []
  }
 ],
 "metadata": {
  "kernelspec": {
   "display_name": "Python 3 (ipykernel)",
   "language": "python",
   "name": "python3"
  },
  "language_info": {
   "codemirror_mode": {
    "name": "ipython",
    "version": 3
   },
   "file_extension": ".py",
   "mimetype": "text/x-python",
   "name": "python",
   "nbconvert_exporter": "python",
   "pygments_lexer": "ipython3",
   "version": "3.10.8"
  }
 },
 "nbformat": 4,
 "nbformat_minor": 5
}
